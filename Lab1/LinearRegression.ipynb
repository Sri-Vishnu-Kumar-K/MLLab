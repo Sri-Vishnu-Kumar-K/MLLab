{
 "cells": [
  {
   "cell_type": "code",
   "execution_count": 1,
   "metadata": {
    "collapsed": true
   },
   "outputs": [],
   "source": [
    "import _pickle as cp\n",
    "import numpy as np"
   ]
  },
  {
   "cell_type": "markdown",
   "metadata": {},
   "source": [
    "### Dataset Loader"
   ]
  },
  {
   "cell_type": "code",
   "execution_count": 4,
   "metadata": {
    "collapsed": true
   },
   "outputs": [],
   "source": [
    "def load_dataset(name, get_xy = False):\n",
    "    X,y = cp.load(open(name,'rb'))\n",
    "    if get_xy:\n",
    "        return X, y\n",
    "    N, D = X.shape\n",
    "    N_train = int(.8 * N)\n",
    "    N_test = N - N_train\n",
    "    \n",
    "    X_train = X[:N_train]\n",
    "    y_train = y[:y_train]\n",
    "    X_test = X[N_train:]\n",
    "    y_test = y[N_train:]\n",
    "    \n",
    "    return X_train, y_train, X_test, y_test"
   ]
  },
  {
   "cell_type": "markdown",
   "metadata": {},
   "source": [
    "### Task 1 - Visualisation"
   ]
  },
  {
   "cell_type": "code",
   "execution_count": 6,
   "metadata": {
    "collapsed": true
   },
   "outputs": [],
   "source": [
    "import matplotlib.pyplot as plt"
   ]
  },
  {
   "cell_type": "code",
   "execution_count": 20,
   "metadata": {
    "collapsed": true
   },
   "outputs": [],
   "source": [
    "def visualise(name):\n",
    "    X, y = load_dataset('winequality-red.pickle', True)\n",
    "    unique, counts = np.unique(y.astype(int), return_counts=True)\n",
    "    print(unique)\n",
    "    print(counts)\n",
    "    plt.bar(range(min(unique),max(unique)+1), counts)\n",
    "    plt.show()"
   ]
  },
  {
   "cell_type": "markdown",
   "metadata": {},
   "source": [
    "### Task 2 - Predict average as solution and find MSE"
   ]
  },
  {
   "cell_type": "code",
   "execution_count": 21,
   "metadata": {},
   "outputs": [],
   "source": [
    "def mean_predictor(y_train, y_test):\n",
    "    y_avg = np.mean(y_train)\n",
    "    mse = np.mean(np.power(y_test - y_avg, 2))\n",
    "    print('The average is '+str(y_avg))\n",
    "    print('The mse is '+str(mse))"
   ]
  },
  {
   "cell_type": "markdown",
   "metadata": {},
   "source": [
    "### Task 3 - Linear Regression"
   ]
  },
  {
   "cell_type": "code",
   "execution_count": 24,
   "metadata": {},
   "outputs": [],
   "source": [
    "import os\n",
    "\n",
    "def scaler(X, reset = False):\n",
    "    if os.path.exists('musigma.pickle') and not reset:\n",
    "        print('musigma exists!, using values')\n",
    "        mean, std = cp.load(open('musigma.pickle','rb'))\n",
    "        X = (X-mean)/std\n",
    "    else:\n",
    "        mean = np.mean(X)\n",
    "        std = np.std(X)\n",
    "        musigma = (mean, std)\n",
    "        cp.dump(musigma,open('musigma.pickle', 'wb'))\n",
    "        X = (X-mean)/std\n",
    "        \n",
    "    return X\n",
    "\n",
    "\n",
    "def linear_regression(X_train, y_train, X_test, y_test):\n",
    "    \n",
    "    x_t = X_train[:int(len(X_train)*.8)]\n",
    "    x_v = X_train[int(len(X_train)*.8):]\n",
    "    \n",
    "    x_train_scaled = scaler(x_t)\n",
    "    w = np.pinv(x_train_scaled.T * x_train_scaled)* x_train_scaled.T * y_train\n",
    "    \n",
    "    x_validation_scaled = scaler(x_v)\n",
    "    \n",
    "    y_pred = x_validation_scaled * w\n",
    "    mse = np.mean(np.power(y_test - y_pred, 2))\n",
    "    print('The mean squared error is '+str(mse))\n",
    "    np.save('weights.npy', w)\n",
    "    print('Weights saved')"
   ]
  },
  {
   "cell_type": "code",
   "execution_count": null,
   "metadata": {
    "collapsed": true
   },
   "outputs": [],
   "source": []
  },
  {
   "cell_type": "code",
   "execution_count": null,
   "metadata": {},
   "outputs": [],
   "source": []
  },
  {
   "cell_type": "code",
   "execution_count": null,
   "metadata": {
    "collapsed": true
   },
   "outputs": [],
   "source": []
  },
  {
   "cell_type": "code",
   "execution_count": null,
   "metadata": {},
   "outputs": [],
   "source": []
  }
 ],
 "metadata": {
  "kernelspec": {
   "display_name": "Python [conda root]",
   "language": "python",
   "name": "conda-root-py"
  },
  "language_info": {
   "codemirror_mode": {
    "name": "ipython",
    "version": 3
   },
   "file_extension": ".py",
   "mimetype": "text/x-python",
   "name": "python",
   "nbconvert_exporter": "python",
   "pygments_lexer": "ipython3",
   "version": "3.5.4"
  }
 },
 "nbformat": 4,
 "nbformat_minor": 2
}
