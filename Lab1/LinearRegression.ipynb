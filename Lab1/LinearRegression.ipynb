{
 "cells": [
  {
   "cell_type": "code",
   "execution_count": 1,
   "metadata": {
    "collapsed": true
   },
   "outputs": [],
   "source": [
    "import _pickle as cp\n",
    "import numpy as np"
   ]
  },
  {
   "cell_type": "markdown",
   "metadata": {},
   "source": [
    "### Dataset Loader"
   ]
  },
  {
   "cell_type": "code",
   "execution_count": 2,
   "metadata": {
    "collapsed": true
   },
   "outputs": [],
   "source": [
    "def load_dataset(name, get_xy = False):\n",
    "    X,y = cp.load(open(name,'rb'))\n",
    "    if get_xy:\n",
    "        return X, y\n",
    "    N, D = X.shape\n",
    "    N_train = int(.8 * N)\n",
    "    N_test = N - N_train\n",
    "    \n",
    "    X_train = X[:N_train]\n",
    "    y_train = y[:N_train]\n",
    "    X_test = X[N_train:]\n",
    "    y_test = y[N_train:]\n",
    "    \n",
    "    return X_train, y_train, X_test, y_test"
   ]
  },
  {
   "cell_type": "markdown",
   "metadata": {},
   "source": [
    "### Task 1 - Visualisation"
   ]
  },
  {
   "cell_type": "code",
   "execution_count": 3,
   "metadata": {
    "collapsed": true
   },
   "outputs": [],
   "source": [
    "import matplotlib.pyplot as plt"
   ]
  },
  {
   "cell_type": "code",
   "execution_count": 4,
   "metadata": {
    "collapsed": true
   },
   "outputs": [],
   "source": [
    "def visualise(name):\n",
    "    X, y = load_dataset(name, True)\n",
    "    unique, counts = np.unique(y.astype(int), return_counts=True)\n",
    "    print(unique)\n",
    "    print(counts)\n",
    "    plt.bar(range(min(unique),max(unique)+1), counts)\n",
    "    plt.show()"
   ]
  },
  {
   "cell_type": "markdown",
   "metadata": {},
   "source": [
    "### Task 2 - Predict average as solution and find MSE"
   ]
  },
  {
   "cell_type": "code",
   "execution_count": 5,
   "metadata": {
    "collapsed": true
   },
   "outputs": [],
   "source": [
    "def mean_predictor(y_train, y_test):\n",
    "    y_avg = np.mean(y_train)\n",
    "    mse = np.mean(np.power(y_test - y_avg, 2))\n",
    "    print('The average is '+str(y_avg))\n",
    "    print('The mse is '+str(mse))"
   ]
  },
  {
   "cell_type": "markdown",
   "metadata": {},
   "source": [
    "### Task 3 - Linear Regression & Task 4 - Plot Effect of varying train size on MSE"
   ]
  },
  {
   "cell_type": "code",
   "execution_count": 6,
   "metadata": {
    "collapsed": true
   },
   "outputs": [],
   "source": [
    "import os\n",
    "\n",
    "def scaler(X, reset = False, verbose = False):\n",
    "    if os.path.exists('musigma.pickle') and not reset:\n",
    "        if verbose:\n",
    "            print('musigma exists!, using values')\n",
    "        mean, std = cp.load(open('musigma.pickle','rb'))\n",
    "        X = (X-mean)/std\n",
    "    else:\n",
    "        if verbose:\n",
    "            print('musigma doesn\\'t exist!, creating values')\n",
    "        mean = np.mean(X)\n",
    "        std = np.std(X)\n",
    "        musigma = (mean, std)\n",
    "        cp.dump(musigma,open('musigma.pickle', 'wb'))\n",
    "        X = (X-mean)/std\n",
    "        \n",
    "    return X\n",
    "\n",
    "\n",
    "def mean_squared_error(y, y_pred):\n",
    "    return np.mean(np.power(y-y_pred, 2))\n",
    "\n",
    "def train_validation_split(X_train, y_train):\n",
    "    x_t = X_train[:int(len(X_train)*.8)]\n",
    "    x_v = X_train[int(len(X_train)*.8):]\n",
    "    y_t = y_train[:int(len(X_train)*.8)]\n",
    "    y_v = y_train[int(len(X_train)*.8):]\n",
    "    \n",
    "    return x_t, x_v, y_t, y_v\n",
    "\n",
    "def linear_regression(X_train, y_train, X_test, y_test, train_size=None, train_validation = True, verbose = False):\n",
    "    if train_validation:\n",
    "        x_t, x_v, y_t, y_v = train_validation_split(X_train, y_train)\n",
    "    else:\n",
    "        x_t = X_train[:train_size]\n",
    "        y_t = y_train[:train_size]\n",
    "        x_v = X_test\n",
    "        y_v = y_test\n",
    "    \n",
    "    x_train_scaled = scaler(x_t, True)\n",
    "    w = np.matmul(np.matmul(np.linalg.pinv(np.matmul(x_train_scaled.T, x_train_scaled)),x_train_scaled.T),y_t)\n",
    "    \n",
    "    y_pred = np.matmul(x_train_scaled, w)\n",
    "    mse_t = mean_squared_error(y_t, y_pred)\n",
    "    if train_validation:\n",
    "        print('The mean squared error on train is '+str(mse_t))\n",
    "    \n",
    "    \n",
    "    x_validation_scaled = scaler(x_v)\n",
    "    y_pred = np.matmul(x_validation_scaled, w)\n",
    "    mse_v = mean_squared_error(y_v, y_pred)\n",
    "    if train_validation:\n",
    "        print('The mean squared error on validation is '+str(mse_v))\n",
    "    np.save('weights.npy', w)\n",
    "    if verbose:\n",
    "        print('Weights saved')\n",
    "    return (mse_t, mse_v)\n",
    "    "
   ]
  },
  {
   "cell_type": "code",
   "execution_count": 7,
   "metadata": {
    "collapsed": true
   },
   "outputs": [],
   "source": [
    "def linear_regression_predict(x):\n",
    "    w = np.load('weights.npy')\n",
    "    y_pred = np.matmul(x,w)\n",
    "    return y_pred"
   ]
  },
  {
   "cell_type": "code",
   "execution_count": 8,
   "metadata": {
    "collapsed": true
   },
   "outputs": [],
   "source": [
    "def linear_regression_predict_with_mse(x, y):\n",
    "    y_pred = linear_regression_predict(x)\n",
    "    mse = mean_squared_error(y_pred, y)\n",
    "    print('The mean squared error is '+str(mse))\n",
    "    return y_pred"
   ]
  },
  {
   "cell_type": "code",
   "execution_count": 9,
   "metadata": {
    "collapsed": true
   },
   "outputs": [],
   "source": [
    "def size_varying_train(X_train, y_train, X_test, y_test):\n",
    "    mse_train = []\n",
    "    mse_test = []\n",
    "    for i in range(20, X_train.shape[0]+1, 20):\n",
    "        mse_pair = linear_regression(X_train, y_train, X_test, y_test, i, train_validation= False)\n",
    "        if i%100 == 0:\n",
    "            print('Train size:'+str(i)+' train error:'+str(mse_pair[0])+' test error:' + str(mse_pair[1]))\n",
    "        mse_train.append(mse_pair[0])\n",
    "        mse_test.append(mse_pair[1])\n",
    "    \n",
    "    plt.plot(range(20,X_train.shape[0]+1, 20), mse_train, 'r', label = 'Train')\n",
    "    plt.plot(range(20,X_train.shape[0]+1, 20), mse_test, 'b', label = 'Test')\n",
    "    plt.xlabel('Train size')\n",
    "    plt.ylabel('Mean Squared Error')\n",
    "    plt.title('Train Size vs Mean Squared Error')\n",
    "    plt.show()"
   ]
  },
  {
   "cell_type": "code",
   "execution_count": 10,
   "metadata": {
    "collapsed": true
   },
   "outputs": [],
   "source": [
    "def main():\n",
    "    i = input('Enter 1 for red wine and 2 for white wine')\n",
    "    name = None\n",
    "    if int(i) == 1:\n",
    "        name = 'winequality-red.pickle'\n",
    "    elif int(i) == 2:\n",
    "        name = 'winequality-white.pickle'\n",
    "    else:\n",
    "        print('Wrong choice!')\n",
    "        return\n",
    "    visualise(name)\n",
    "    X_train, y_train, X_test, y_test = load_dataset(name)\n",
    "    mean_predictor(y_train, y_test)\n",
    "    linear_regression(X_train, y_train, X_test, y_test)\n",
    "    linear_regression_predict_with_mse(X_test, y_test)\n",
    "    size_varying_train(X_train, y_train, X_test, y_test)"
   ]
  },
  {
   "cell_type": "code",
   "execution_count": 11,
   "metadata": {
    "scrolled": false
   },
   "outputs": [
    {
     "name": "stdout",
     "output_type": "stream",
     "text": [
      "Enter 1 for red wine and 2 for white wine1\n",
      "[3 4 5 6 7 8]\n",
      "[ 10  53 681 638 199  18]\n"
     ]
    },
    {
     "data": {
      "image/png": "[encoded data removed]",
      "text/plain": [
       "<matplotlib.figure.Figure at 0x1a1787cda20>"
      ]
     },
     "metadata": {},
     "output_type": "display_data"
    },
    {
     "name": "stdout",
     "output_type": "stream",
     "text": [
      "The average is 5.62470680219\n",
      "The mse is 0.745345570719\n",
      "The mean squared error on train is 0.401942011069\n",
      "The mean squared error on validation is 0.385870656968\n",
      "The mean squared error is 1633.41931452\n",
      "Train size:100 train error:0.307766735441 test error:0.539769507304\n",
      "Train size:200 train error:0.391175869666 test error:0.495576959332\n",
      "Train size:300 train error:0.389793694866 test error:0.511555092207\n",
      "Train size:400 train error:0.400502470447 test error:0.499559446827\n",
      "Train size:500 train error:0.399399739568 test error:0.496930937861\n",
      "Train size:600 train error:0.390955755964 test error:0.496560654966\n",
      "Train size:700 train error:0.405293478835 test error:0.493821722846\n",
      "Train size:800 train error:0.405365954412 test error:0.489294419784\n",
      "Train size:900 train error:0.397806876642 test error:0.489092544483\n",
      "Train size:1000 train error:0.397121016083 test error:0.492446297905\n",
      "Train size:1100 train error:0.401402074825 test error:0.49712313109\n",
      "Train size:1200 train error:0.403850844812 test error:0.497732734477\n"
     ]
    },
    {
     "data": {
      "image/png": "[encoded data removed]",
      "text/plain": [
       "<matplotlib.figure.Figure at 0x1a17b408d30>"
      ]
     },
     "metadata": {},
     "output_type": "display_data"
    }
   ],
   "source": [
    "main()"
   ]
  },
  {
   "cell_type": "code",
   "execution_count": 12,
   "metadata": {},
   "outputs": [
    {
     "name": "stdout",
     "output_type": "stream",
     "text": [
      "Enter 1 for red wine and 2 for white wine2\n",
      "[3 4 5 6 7 8 9]\n",
      "[  20  163 1457 2198  880  175    5]\n"
     ]
    },
    {
     "data": {
      "image/png": "[encoded data removed]",
      "text/plain": [
       "<matplotlib.figure.Figure at 0x1a1787cd160>"
      ]
     },
     "metadata": {},
     "output_type": "display_data"
    },
    {
     "name": "stdout",
     "output_type": "stream",
     "text": [
      "The average is 5.87876467586\n",
      "The mse is 0.813857300005\n",
      "The mean squared error on train is 0.564998645178\n",
      "The mean squared error on validation is 0.600466228909\n",
      "The mean squared error is 53746.8840465\n",
      "Train size:100 train error:0.568629863107 test error:0.624914303906\n",
      "Train size:200 train error:0.54454628833 test error:0.583364251312\n",
      "Train size:300 train error:0.586959459106 test error:0.572453649901\n",
      "Train size:400 train error:0.54152474435 test error:0.571053285017\n",
      "Train size:500 train error:0.561051583921 test error:0.567664473548\n",
      "Train size:600 train error:0.577928015179 test error:0.570519633683\n",
      "Train size:700 train error:0.580300526519 test error:0.569945274568\n",
      "Train size:800 train error:0.573702419688 test error:0.571656202184\n",
      "Train size:900 train error:0.566797183793 test error:0.5710509755\n",
      "Train size:1000 train error:0.580049383627 test error:0.570839075785\n",
      "Train size:1100 train error:0.574282132323 test error:0.569848001289\n",
      "Train size:1200 train error:0.571257838003 test error:0.569091982921\n",
      "Train size:1300 train error:0.572336253232 test error:0.570652838067\n",
      "Train size:1400 train error:0.568603298874 test error:0.571147191211\n",
      "Train size:1500 train error:0.567961228686 test error:0.57005697231\n",
      "Train size:1600 train error:0.566958319196 test error:0.568843289752\n",
      "Train size:1700 train error:0.564585099535 test error:0.56820039947\n",
      "Train size:1800 train error:0.55492891614 test error:0.568357790143\n",
      "Train size:1900 train error:0.558660858112 test error:0.568465268619\n",
      "Train size:2000 train error:0.550093983709 test error:0.568903146152\n",
      "Train size:2100 train error:0.556157189469 test error:0.567880548243\n",
      "Train size:2200 train error:0.564330546059 test error:0.567413466063\n",
      "Train size:2300 train error:0.560691643342 test error:0.567651234362\n",
      "Train size:2400 train error:0.562973197332 test error:0.567391597316\n",
      "Train size:2500 train error:0.563154490903 test error:0.567187507572\n",
      "Train size:2600 train error:0.566570447443 test error:0.567068956201\n",
      "Train size:2700 train error:0.567602272453 test error:0.567176383037\n",
      "Train size:2800 train error:0.566101007242 test error:0.567095711121\n",
      "Train size:2900 train error:0.56814437745 test error:0.566662135322\n",
      "Train size:3000 train error:0.568999398097 test error:0.566433334558\n",
      "Train size:3100 train error:0.568767960417 test error:0.566170844428\n",
      "Train size:3200 train error:0.56397982893 test error:0.566303073563\n",
      "Train size:3300 train error:0.567797134779 test error:0.566276194783\n",
      "Train size:3400 train error:0.563058266111 test error:0.566407067265\n",
      "Train size:3500 train error:0.564747377831 test error:0.565920029629\n",
      "Train size:3600 train error:0.576077399252 test error:0.566322075545\n",
      "Train size:3700 train error:0.573682517498 test error:0.566761398113\n",
      "Train size:3800 train error:0.571098018476 test error:0.567019762691\n",
      "Train size:3900 train error:0.573165980286 test error:0.567032324169\n"
     ]
    },
    {
     "data": {
      "image/png": "[encoded data removed]",
      "text/plain": [
       "<matplotlib.figure.Figure at 0x1a17b4a5748>"
      ]
     },
     "metadata": {},
     "output_type": "display_data"
    }
   ],
   "source": [
    "main()"
   ]
  },
  {
   "cell_type": "code",
   "execution_count": null,
   "metadata": {
    "collapsed": true
   },
   "outputs": [],
   "source": []
  }
 ],
 "metadata": {
  "kernelspec": {
   "display_name": "Python [conda root]",
   "language": "python",
   "name": "conda-root-py"
  },
  "language_info": {
   "codemirror_mode": {
    "name": "ipython",
    "version": 3
   },
   "file_extension": ".py",
   "mimetype": "text/x-python",
   "name": "python",
   "nbconvert_exporter": "python",
   "pygments_lexer": "ipython3",
   "version": "3.5.4"
  }
 },
 "nbformat": 4,
 "nbformat_minor": 2
}
