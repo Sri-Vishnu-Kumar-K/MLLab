{
 "cells": [
  {
   "cell_type": "code",
   "execution_count": 1,
   "metadata": {
    "collapsed": true
   },
   "outputs": [],
   "source": [
    "import numpy as np\n",
    "import _pickle as cp\n",
    "from sklearn.linear_model import LogisticRegression\n",
    "from sklearn.datasets import load_iris\n",
    "import matplotlib.pyplot as plt"
   ]
  },
  {
   "cell_type": "code",
   "execution_count": 2,
   "metadata": {
    "collapsed": true
   },
   "outputs": [],
   "source": [
    "class NBC:\n",
    "    def __init__(self, feature_types, num_classes, alpha):\n",
    "        assert(len(feature_types)>0)\n",
    "        assert(num_classes>1)\n",
    "        self.feature_types = feature_types\n",
    "        self.num_classes = num_classes\n",
    "        self.alpha = alpha\n",
    "    \n",
    "    def _musigma(self, X):\n",
    "        mu = np.mean(X)\n",
    "        sigma = np.sqrt(np.var(X))\n",
    "        if sigma==0:\n",
    "            sigma = 1e-6\n",
    "#         print(mu,sigma)\n",
    "        return (mu,sigma)\n",
    "    \n",
    "    def _gaussian_fit(self, X_real, y):\n",
    "#         print(\"Gaussian Fit\")\n",
    "        features = []\n",
    "        for i in range(0, self.num_classes):\n",
    "#             print(i)\n",
    "#             print(X_real[y==i])\n",
    "            features.append(self._musigma(X_real[y==i]))\n",
    "        return features\n",
    "    \n",
    "    def _class_counts(self, X):\n",
    "        unique_counts = np.unique(X, return_counts=True)\n",
    "        class_counts = []\n",
    "        for i in range(len(unique_counts[0])):\n",
    "            class_counts.append((unique_counts[0][i],unique_counts[1][i]/X.shape[0]))\n",
    "#         print(class_counts)\n",
    "        return class_counts\n",
    "    \n",
    "    def _bernoulli_fit(self, X_class, y):\n",
    "        features = []\n",
    "        for i in range(0, self.num_classes):\n",
    "            features.append(self._class_counts(X_class[y==i]))\n",
    "        return features\n",
    "    \n",
    "    def fit(self, X, y):\n",
    "        self.feature_params = []\n",
    "        for i, feature_type in enumerate(self.feature_types):\n",
    "            if feature_type == 'r':\n",
    "                self.feature_params.append(self._gaussian_fit(X[:,i], y))\n",
    "            elif feature_type == 'm' or feature_type == 'b':\n",
    "#                 print(i)\n",
    "                self.feature_params.append(self._bernoulli_fit(X[:,i], y))\n",
    "        self.class_prior = []\n",
    "        \n",
    "        for class_label in range(self.num_classes):\n",
    "            self.class_prior.append(np.size(y[y==class_label])/y.shape[0])\n",
    "        \n",
    "        return self.feature_params, self.class_prior\n",
    "    \n",
    "    def _gaussian_predict(self, X, features):\n",
    "        mu,sigma = features\n",
    "#         print(mu,sigma)\n",
    "        prob = -0.5*((((X-mu)/sigma)**2)+np.log(sigma**2*2.*np.pi))\n",
    "        return prob\n",
    "    \n",
    "    def _bernoulli_predict(self, X, features):\n",
    "        log_prob = np.zeros(X.shape[0])\n",
    "        \n",
    "        for feature in features:\n",
    "            log_prob[X==feature[0]] = np.log(feature[1]+self.alpha)\n",
    "        \n",
    "        log_prob[log_prob==0] = np.log(self.alpha)\n",
    "        return log_prob\n",
    "            \n",
    "    \n",
    "    def predict(self, X):\n",
    "        shape = (X.shape[0], self.num_classes)\n",
    "        self.preds = np.zeros(shape)\n",
    "        for label in range(self.num_classes):\n",
    "            pred_label = np.zeros(X.shape[0])\n",
    "            for i, feature_type in enumerate(self.feature_types):\n",
    "                #print(\"Return Value\")\n",
    "                if feature_type == 'r':\n",
    "#                     print(np.log(self.class_prior[label]))\n",
    "                    return_val = self._gaussian_predict(X[:,i], self.feature_params[i][label])\n",
    "                    #print(return_val)\n",
    "                    pred_label += return_val\n",
    "                elif feature_type == 'm' or feature_type == 'b':\n",
    "                    return_val = self._bernoulli_predict(X[:,i], self.feature_params[i][label])\n",
    "                    #print(return_val)\n",
    "                    pred_label += return_val\n",
    "                #print(\"Pred_label\")\n",
    "                #print(pred_label)\n",
    "            self.preds[:,label] = pred_label + np.log(self.class_prior[label])\n",
    "        #print(self.preds)\n",
    "        return np.argmax(self.preds, axis = 1)\n",
    "    \n",
    "    def accuracy(self, X_test, y_test):\n",
    "        return np.mean(self.predict(X_test) == y_test)"
   ]
  },
  {
   "cell_type": "code",
   "execution_count": 3,
   "metadata": {
    "collapsed": true
   },
   "outputs": [],
   "source": [
    "def logistic_regression(X_train, y_train, X_test, y_test):\n",
    "    lr = LogisticRegression(C=10)\n",
    "    lr.fit(X_train, y_train)\n",
    "    y_pred = lr.predict(X_test)\n",
    "    accuracy = np.mean(y_pred==y_test)\n",
    "    return accuracy\n",
    "\n",
    "def naive_bayes(X_train, y_train, X_test, y_test, feature_types, num_classes, alpha):\n",
    "    nbc = NBC(feature_types, num_classes, alpha)\n",
    "    nbc.fit(X_train, y_train)\n",
    "    acc = nbc.accuracy(X_test, y_test)\n",
    "#     print(acc)\n",
    "    return acc"
   ]
  },
  {
   "cell_type": "code",
   "execution_count": 4,
   "metadata": {
    "collapsed": true
   },
   "outputs": [],
   "source": [
    "def data_loader(name):\n",
    "    if name==\"iris\":\n",
    "        iris = load_iris()\n",
    "        X, y = iris['data'], iris['target']\n",
    "        return X, y\n",
    "    elif name == \"voter\":\n",
    "        X,y = cp.load(open(\"data/voting.pickle\",\"rb\"))\n",
    "        return X,y\n",
    "    elif name == \"voter-full\":\n",
    "        X,y = cp.load(open(\"data/voting-full.pickle\",\"rb\"))\n",
    "        for i in range(X.shape[1]):\n",
    "            col = X[:,i]\n",
    "            print(\"There are \"+str(np.size(col[col==2]))+\" unknowns in column \"+str(i))\n",
    "        print(\"There are \"+str(np.size(y[y==2]))+\" unknowns in y\")\n",
    "        operation = input(\"Given above data what would you like to do? Same/Impute with Mean/Always zero \")\n",
    "        if operation == 'Same' or operation == '1':\n",
    "            return X, y\n",
    "        elif operation == 'Impute with Mean' or operation == '2':\n",
    "            for i in range(X.shape[1]):\n",
    "                col = X[:,i]\n",
    "                col[col==2] = np.mean(col[col!=2])\n",
    "                X[:,i] = col\n",
    "            return X, y\n",
    "        elif operation == 'Always zero' or operation == '3':\n",
    "            for i in range(X.shape[1]):\n",
    "                col = X[:,i]\n",
    "                col[col==2] = 0\n",
    "                X[:,i] = col\n",
    "            return X, y\n",
    "        else:\n",
    "            print(\"Invalid operation chosen, original matrix returned\")\n",
    "            return X,y\n",
    "\n",
    "def get_permutation(X, y, k):\n",
    "    N, D = X.shape\n",
    "    train_size = int(0.8*N)\n",
    "    shuffle = np.random.permutation(N)\n",
    "    X_train = X[shuffle[:int(train_size*k/10)]]\n",
    "    y_train = y[shuffle[:int(train_size*k/10)]]\n",
    "    X_test = X[shuffle[int(train_size*k/10):]]\n",
    "    y_test = y[shuffle[int(train_size*k/10):]]\n",
    "    \n",
    "    return X_train, y_train, X_test, y_test\n",
    "    \n",
    "def main():\n",
    "    name = input(\"Enter the dataset name: \")\n",
    "    if name == 'iris':\n",
    "        X, y = data_loader(\"iris\")\n",
    "        feature_types = ['r','r','r','r']\n",
    "        num_classes = 3\n",
    "    elif name == 'voter':\n",
    "        X, y = data_loader(\"voter\")\n",
    "#         print(X, y)\n",
    "        feature_types = ['b' for i in range(X.shape[1])]\n",
    "        num_classes = 2\n",
    "    elif name == 'voter-full':\n",
    "        X, y = data_loader(\"voter-full\")\n",
    "        feature_types = ['m' for i in range(X.shape[1])]\n",
    "        num_classes = 2\n",
    "    \n",
    "    alpha = 0.01\n",
    "    accuracy_nb = []\n",
    "    accuracy_lr = []\n",
    "    for k in range(1,11):\n",
    "        acc_nb_val = 0\n",
    "        acc_lr_val = 0\n",
    "        for _ in range(0,200):\n",
    "            X_train, y_train, X_test, y_test = get_permutation(X, y, k)\n",
    "            acc_nb_val += naive_bayes(X_train, y_train, X_test, y_test, feature_types, num_classes, alpha)\n",
    "            acc_lr_val += logistic_regression(X_train, y_train, X_test, y_test)\n",
    "        accuracy_nb.append(acc_nb_val*0.005)\n",
    "        accuracy_lr.append(acc_lr_val*0.005)\n",
    "    \n",
    "    print(accuracy_nb)\n",
    "    print(accuracy_lr)\n",
    "    plt.plot(range(1,11), accuracy_nb, 'r', label = 'Naive Bayes')\n",
    "    plt.plot(range(1,11), accuracy_lr, 'b', label = 'Logistic Regression')\n",
    "    plt.xlabel('Train size')\n",
    "    plt.ylabel('Test Accuracy')\n",
    "    plt.title('Train Size vs Test Accuracy')\n",
    "    plt.show()\n",
    "    print(\"Done\")\n",
    "    return\n",
    "    \n",
    "    "
   ]
  },
  {
   "cell_type": "code",
   "execution_count": 5,
   "metadata": {
    "scrolled": false
   },
   "outputs": [
    {
     "name": "stdout",
     "output_type": "stream",
     "text": [
      "Enter the dataset name: iris\n"
     ]
    },
    {
     "name": "stderr",
     "output_type": "stream",
     "text": [
      "C:\\Users\\dell\\Anaconda3\\lib\\site-packages\\numpy\\core\\fromnumeric.py:2889: RuntimeWarning: Mean of empty slice.\n",
      "  out=out, **kwargs)\n",
      "C:\\Users\\dell\\Anaconda3\\lib\\site-packages\\numpy\\core\\_methods.py:80: RuntimeWarning: invalid value encountered in double_scalars\n",
      "  ret = ret.dtype.type(ret / rcount)\n",
      "C:\\Users\\dell\\Anaconda3\\lib\\site-packages\\numpy\\core\\fromnumeric.py:3126: RuntimeWarning: Degrees of freedom <= 0 for slice\n",
      "  **kwargs)\n",
      "C:\\Users\\dell\\Anaconda3\\lib\\site-packages\\numpy\\core\\_methods.py:105: RuntimeWarning: invalid value encountered in true_divide\n",
      "  arrmean, rcount, out=arrmean, casting='unsafe', subok=False)\n",
      "C:\\Users\\dell\\Anaconda3\\lib\\site-packages\\numpy\\core\\_methods.py:127: RuntimeWarning: invalid value encountered in double_scalars\n",
      "  ret = ret.dtype.type(ret / rcount)\n",
      "C:\\Users\\dell\\Anaconda3\\lib\\site-packages\\ipykernel\\__main__.py:89: RuntimeWarning: divide by zero encountered in log\n"
     ]
    },
    {
     "name": "stdout",
     "output_type": "stream",
     "text": [
      "[0.7815217391304351, 0.93559523809523815, 0.94390350877193119, 0.94901960784313633, 0.95211111111111124, 0.94942307692307681, 0.95227272727272838, 0.95370370370370483, 0.95309523809523944, 0.95150000000000168]\n",
      "[0.84355072463768255, 0.91722222222222305, 0.93916666666666826, 0.94749999999999945, 0.95077777777777761, 0.95237179487179435, 0.95886363636363781, 0.95657407407407524, 0.95833333333333415, 0.95983333333333454]\n"
     ]
    },
    {
     "data": {
      "image/png": "[encoded data removed]",
      "text/plain": [
       "<matplotlib.figure.Figure at 0x23b8ff61d30>"
      ]
     },
     "metadata": {},
     "output_type": "display_data"
    },
    {
     "name": "stdout",
     "output_type": "stream",
     "text": [
      "Done\n"
     ]
    }
   ],
   "source": [
    "main()"
   ]
  },
  {
   "cell_type": "code",
   "execution_count": 6,
   "metadata": {},
   "outputs": [
    {
     "name": "stdout",
     "output_type": "stream",
     "text": [
      "Enter the dataset name: voter\n",
      "[0.89612149532710283, 0.90538461538461412, 0.90723163841807908, 0.90920886075949403, 0.90835714285714153, 0.91012396694214948, 0.91024271844660198, 0.90934523809523682, 0.9097727272727274, 0.91127659574468001]\n",
      "[0.91030373831775746, 0.93607692307692247, 0.94426553672316471, 0.95047468354430498, 0.95235714285714168, 0.95338842975206617, 0.95708737864077675, 0.95607142857142946, 0.95606060606060772, 0.95670212765957308]\n"
     ]
    },
    {
     "data": {
      "image/png": "[encoded data removed]",
      "text/plain": [
       "<matplotlib.figure.Figure at 0x23b8ffd22b0>"
      ]
     },
     "metadata": {},
     "output_type": "display_data"
    },
    {
     "name": "stdout",
     "output_type": "stream",
     "text": [
      "Done\n"
     ]
    }
   ],
   "source": [
    "main()"
   ]
  },
  {
   "cell_type": "code",
   "execution_count": 7,
   "metadata": {},
   "outputs": [
    {
     "name": "stdout",
     "output_type": "stream",
     "text": [
      "Enter the dataset name: voter-full\n",
      "There are 12 unknowns in column 0\n",
      "There are 48 unknowns in column 1\n",
      "There are 11 unknowns in column 2\n",
      "There are 11 unknowns in column 3\n",
      "There are 15 unknowns in column 4\n",
      "There are 11 unknowns in column 5\n",
      "There are 14 unknowns in column 6\n",
      "There are 15 unknowns in column 7\n",
      "There are 22 unknowns in column 8\n",
      "There are 7 unknowns in column 9\n",
      "There are 21 unknowns in column 10\n",
      "There are 31 unknowns in column 11\n",
      "There are 25 unknowns in column 12\n",
      "There are 17 unknowns in column 13\n",
      "There are 28 unknowns in column 14\n",
      "There are 104 unknowns in column 15\n",
      "There are 0 unknowns in y\n",
      "Given above data what would you like to do? Same/Impute with Mean/Always zero 1\n",
      "[0.8971695760598507, 0.89886612021857915, 0.90086102719033012, 0.90030405405405423, 0.89959770114942628, 0.90008810572687226, 0.89971354166666684, 0.89875796178343925, 0.90065573770491814, 0.90385057471264418]\n",
      "[0.90743142144638356, 0.92199453551912525, 0.92595166163141829, 0.93104729729729674, 0.93120689655172439, 0.93462555066079323, 0.93572916666666661, 0.93735668789808946, 0.93774590163934446, 0.94275862068965577]\n"
     ]
    },
    {
     "data": {
      "image/png": "[encoded data removed]",
      "text/plain": [
       "<matplotlib.figure.Figure at 0x23b90192860>"
      ]
     },
     "metadata": {},
     "output_type": "display_data"
    },
    {
     "name": "stdout",
     "output_type": "stream",
     "text": [
      "Done\n"
     ]
    }
   ],
   "source": [
    "main()"
   ]
  },
  {
   "cell_type": "code",
   "execution_count": 8,
   "metadata": {},
   "outputs": [
    {
     "name": "stdout",
     "output_type": "stream",
     "text": [
      "Enter the dataset name: voter-full\n",
      "There are 12 unknowns in column 0\n",
      "There are 48 unknowns in column 1\n",
      "There are 11 unknowns in column 2\n",
      "There are 11 unknowns in column 3\n",
      "There are 15 unknowns in column 4\n",
      "There are 11 unknowns in column 5\n",
      "There are 14 unknowns in column 6\n",
      "There are 15 unknowns in column 7\n",
      "There are 22 unknowns in column 8\n",
      "There are 7 unknowns in column 9\n",
      "There are 21 unknowns in column 10\n",
      "There are 31 unknowns in column 11\n",
      "There are 25 unknowns in column 12\n",
      "There are 17 unknowns in column 13\n",
      "There are 28 unknowns in column 14\n",
      "There are 104 unknowns in column 15\n",
      "There are 0 unknowns in y\n",
      "Given above data what would you like to do? Same/Impute with Mean/Always zero 2\n",
      "[0.89783042394015, 0.90036885245901599, 0.89954682779455986, 0.90037162162162165, 0.90034482758620726, 0.9000660792951547, 0.89966145833333377, 0.90012738853503138, 0.89987704918032663, 0.89747126436781643]\n",
      "[0.92885286783042387, 0.94519125683060123, 0.94978851963746092, 0.95347972972972983, 0.95591954022988579, 0.95640969162995448, 0.95885416666666656, 0.96022292993630476, 0.96053278688524635, 0.9594827586206901]\n"
     ]
    },
    {
     "data": {
      "image/png": "[encoded data removed]",
      "text/plain": [
       "<matplotlib.figure.Figure at 0x1e118db63c8>"
      ]
     },
     "metadata": {},
     "output_type": "display_data"
    },
    {
     "name": "stdout",
     "output_type": "stream",
     "text": [
      "Done\n"
     ]
    }
   ],
   "source": [
    "main()"
   ]
  },
  {
   "cell_type": "code",
   "execution_count": 9,
   "metadata": {},
   "outputs": [
    {
     "name": "stdout",
     "output_type": "stream",
     "text": [
      "Enter the dataset name: voter-full\n",
      "There are 12 unknowns in column 0\n",
      "There are 48 unknowns in column 1\n",
      "There are 11 unknowns in column 2\n",
      "There are 11 unknowns in column 3\n",
      "There are 15 unknowns in column 4\n",
      "There are 11 unknowns in column 5\n",
      "There are 14 unknowns in column 6\n",
      "There are 15 unknowns in column 7\n",
      "There are 22 unknowns in column 8\n",
      "There are 7 unknowns in column 9\n",
      "There are 21 unknowns in column 10\n",
      "There are 31 unknowns in column 11\n",
      "There are 25 unknowns in column 12\n",
      "There are 17 unknowns in column 13\n",
      "There are 28 unknowns in column 14\n",
      "There are 104 unknowns in column 15\n",
      "There are 0 unknowns in y\n",
      "Given above data what would you like to do? Same/Impute with Mean/Always zero 3\n",
      "[0.89948877805486249, 0.89838797814207638, 0.89820241691842684, 0.89565878378378327, 0.89386973180076656, 0.89596916299559537, 0.89630208333333361, 0.89789808917197445, 0.89754098360655632, 0.89402298850574757]\n",
      "[0.92790523690773097, 0.94228142076502763, 0.94728096676737039, 0.95084459459459514, 0.95337164750957903, 0.95508810572687197, 0.95658854166666618, 0.95742038216560377, 0.96053278688524657, 0.95850574712643721]\n"
     ]
    },
    {
     "data": {
      "image/png": "[encoded data removed]",
      "text/plain": [
       "<matplotlib.figure.Figure at 0x1e118d50160>"
      ]
     },
     "metadata": {},
     "output_type": "display_data"
    },
    {
     "name": "stdout",
     "output_type": "stream",
     "text": [
      "Done\n"
     ]
    }
   ],
   "source": [
    "main()"
   ]
  }
 ],
 "metadata": {
  "kernelspec": {
   "display_name": "Python [conda root]",
   "language": "python",
   "name": "conda-root-py"
  },
  "language_info": {
   "codemirror_mode": {
    "name": "ipython",
    "version": 3
   },
   "file_extension": ".py",
   "mimetype": "text/x-python",
   "name": "python",
   "nbconvert_exporter": "python",
   "pygments_lexer": "ipython3",
   "version": "3.5.4"
  }
 },
 "nbformat": 4,
 "nbformat_minor": 2
}
